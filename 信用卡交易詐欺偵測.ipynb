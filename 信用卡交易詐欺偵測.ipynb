{
 "cells": [
  {
   "cell_type": "code",
   "execution_count": 1,
   "id": "52b92a23",
   "metadata": {},
   "outputs": [],
   "source": [
    "import pandas as pd\n",
    "import numpy as np\n",
    "\n",
    "df = pd.read_csv('fraudTrain.csv')"
   ]
  },
  {
   "cell_type": "code",
   "execution_count": 2,
   "id": "99bdff83",
   "metadata": {},
   "outputs": [
    {
     "name": "stdout",
     "output_type": "stream",
     "text": [
      "<class 'pandas.core.frame.DataFrame'>\n",
      "RangeIndex: 1296675 entries, 0 to 1296674\n",
      "Data columns (total 23 columns):\n",
      " #   Column                 Non-Null Count    Dtype  \n",
      "---  ------                 --------------    -----  \n",
      " 0   Unnamed: 0             1296675 non-null  int64  \n",
      " 1   trans_date_trans_time  1296675 non-null  object \n",
      " 2   cc_num                 1296675 non-null  int64  \n",
      " 3   merchant               1296675 non-null  object \n",
      " 4   category               1296675 non-null  object \n",
      " 5   amt                    1296675 non-null  float64\n",
      " 6   first                  1296675 non-null  object \n",
      " 7   last                   1296675 non-null  object \n",
      " 8   gender                 1296675 non-null  object \n",
      " 9   street                 1296675 non-null  object \n",
      " 10  city                   1296675 non-null  object \n",
      " 11  state                  1296675 non-null  object \n",
      " 12  zip                    1296675 non-null  int64  \n",
      " 13  lat                    1296675 non-null  float64\n",
      " 14  long                   1296675 non-null  float64\n",
      " 15  city_pop               1296675 non-null  int64  \n",
      " 16  job                    1296675 non-null  object \n",
      " 17  dob                    1296675 non-null  object \n",
      " 18  trans_num              1296675 non-null  object \n",
      " 19  unix_time              1296675 non-null  int64  \n",
      " 20  merch_lat              1296675 non-null  float64\n",
      " 21  merch_long             1296675 non-null  float64\n",
      " 22  is_fraud               1296675 non-null  int64  \n",
      "dtypes: float64(5), int64(6), object(12)\n",
      "memory usage: 227.5+ MB\n"
     ]
    }
   ],
   "source": [
    "df.info()"
   ]
  },
  {
   "cell_type": "code",
   "execution_count": 3,
   "id": "cb7b8b7c",
   "metadata": {},
   "outputs": [],
   "source": [
    "df['trans_date_trans_time'] = pd.to_datetime(df['trans_date_trans_time'])"
   ]
  },
  {
   "cell_type": "code",
   "execution_count": null,
   "id": "e9292f42",
   "metadata": {},
   "outputs": [
    {
     "name": "stdout",
     "output_type": "stream",
     "text": [
      "0.6731094594963818\n",
      "[0.68325288 0.67557252 0.66716924 0.67595819 0.66359447]\n",
      "0.5897967710829265\n",
      "[0.61292472 0.58960693 0.58960693 0.58161226 0.57523302]\n"
     ]
    }
   ],
   "source": [
    "from sklearn.impute import SimpleImputer\n",
    "from sklearn.preprocessing import OneHotEncoder\n",
    "from sklearn.compose import ColumnTransformer\n",
    "from sklearn.pipeline import Pipeline\n",
    "from sklearn.model_selection import StratifiedKFold, cross_val_score\n",
    "from sklearn.preprocessing import StandardScaler\n",
    "from sklearn.metrics import make_scorer\n",
    "from sklearn.linear_model import LinearRegression\n",
    "from sklearn.ensemble import RandomForestClassifier\n",
    "from xgboost import XGBClassifier\n",
    "import numpy as np\n",
    "\n",
    "cat_cols=['category','gender']\n",
    "city_cols=['city']\n",
    "num_cols=['amt','unix_time']\n",
    "y_cols=['is_fraud']\n",
    "\n",
    "pre=ColumnTransformer(\n",
    "    transformers=[\n",
    "        ('num',Pipeline([\n",
    "            ('imputer',SimpleImputer(strategy='meadian')),\n",
    "        ]),num_cols),\n",
    "        ('cat',Pipeline([\n",
    "            ('imputer',SimpleImputer(strategy='most_frequent')),\n",
    "            ('ohe',OneHotEncoder()),\n",
    "        ]),cat_cols),\n",
    "    ],\n",
    "    remainder='drop'\n",
    ")\n",
    "\n",
    "xgb=XGBClassifier(\n",
    "    n_estimators=200,        \n",
    "    max_depth=6,             \n",
    "    learning_rate=0.1,      \n",
    "    subsample=0.8,           \n",
    "    colsample_bytree=0.8,    \n",
    "    min_child_weight=5,      \n",
    "    reg_lambda=1.0,          \n",
    "    n_jobs=-1,              \n",
    "    random_state=42,\n",
    "    tree_method=\"hist\"  \n",
    ")\n",
    "\n",
    "pipe=Pipeline([\n",
    "    ('pre',pre),\n",
    "    ('xgb',xgb)\n",
    "])\n",
    "\n",
    "X=df.copy()\n",
    "y=df[y_cols[0]]\n",
    "\n",
    "cv=StratifiedKFold(n_splits=5,shuffle=True,random_state=42)\n",
    "scores_f1=cross_val_score(pipe,X,y,scoring='f1',cv=cv,n_jobs=-1)\n",
    "\n",
    "scores_recall=cross_val_score(pipe,X,y,scoring='recall',cv=cv,n_jobs=-1)\n",
    "\n",
    "\n",
    "print(scores_f1.mean())\n",
    "print(scores_f1)\n",
    "print(scores_recall.mean())\n",
    "print(scores_recall)"
   ]
  },
  {
   "cell_type": "code",
   "execution_count": 5,
   "id": "f1488d61",
   "metadata": {},
   "outputs": [
    {
     "name": "stdout",
     "output_type": "stream",
     "text": [
      "0.6460434986902688 [0.63126593 0.65048924 0.66505246 0.63432562 0.64908425]\n",
      "0.5528626648862438 [0.54273192 0.56072874 0.57461646 0.53075031 0.55548589]\n"
     ]
    }
   ],
   "source": [
    "from sklearn.model_selection import StratifiedGroupKFold\n",
    "\n",
    "groups = df['cc_num'].values\n",
    "\n",
    "gcv = StratifiedGroupKFold(n_splits=5, shuffle=True, random_state=42)\n",
    "\n",
    "scores_f1 = cross_val_score(pipe, X, y, groups=groups, scoring='f1', cv=gcv, n_jobs=-1)\n",
    "scores_recall = cross_val_score(pipe, X, y, groups=groups, scoring='recall', cv=gcv, n_jobs=-1)\n",
    "\n",
    "print(scores_f1.mean(), scores_f1)\n",
    "print(scores_recall.mean(), scores_recall)\n"
   ]
  },
  {
   "cell_type": "code",
   "execution_count": 6,
   "id": "45f4987a",
   "metadata": {},
   "outputs": [
    {
     "name": "stdout",
     "output_type": "stream",
     "text": [
      "is_fraud\n",
      "0    0.994211\n",
      "1    0.005789\n",
      "Name: proportion, dtype: float64\n"
     ]
    }
   ],
   "source": [
    "print(df['is_fraud'].value_counts(normalize=True))"
   ]
  },
  {
   "cell_type": "code",
   "execution_count": 7,
   "id": "57b457d9",
   "metadata": {},
   "outputs": [
    {
     "name": "stdout",
     "output_type": "stream",
     "text": [
      "PR-AUC: 0.7242123239693096 [0.70285883 0.72345375 0.73410921 0.72669426 0.73394557]\n",
      "ROC-AUC: 0.9939748027246378 [0.99391673 0.99343074 0.9940852  0.99454076 0.99390058]\n"
     ]
    }
   ],
   "source": [
    "from sklearn.metrics import average_precision_score, roc_auc_score\n",
    "\n",
    "xgb = XGBClassifier(\n",
    "    n_estimators=500,\n",
    "    learning_rate=0.05,\n",
    "    max_depth=6,\n",
    "    subsample=0.8,\n",
    "    colsample_bytree=0.8,\n",
    "    scale_pos_weight=171,   # 設定權重\n",
    "    eval_metric='aucpr',    # 改用 PR-AUC\n",
    "    tree_method='hist',\n",
    "    random_state=42,\n",
    "    n_jobs=-1\n",
    ")\n",
    "\n",
    "pipe=Pipeline([\n",
    "    ('pre',pre),\n",
    "    ('xgb',xgb)\n",
    "])\n",
    "\n",
    "scores_pr = cross_val_score(pipe, X, y, scoring='average_precision', cv=gcv, n_jobs=-1, groups=groups)\n",
    "scores_roc = cross_val_score(pipe, X, y, scoring='roc_auc', cv=gcv, n_jobs=-1, groups=groups)\n",
    "\n",
    "print(\"PR-AUC:\", scores_pr.mean(), scores_pr)\n",
    "print(\"ROC-AUC:\", scores_roc.mean(), scores_roc)"
   ]
  },
  {
   "cell_type": "code",
   "execution_count": 8,
   "id": "da009af7",
   "metadata": {},
   "outputs": [
    {
     "name": "stdout",
     "output_type": "stream",
     "text": [
      "F2-score: 0.4746163002802037 [0.4330814  0.46139111 0.46241396 0.4995423  0.51665273]\n"
     ]
    }
   ],
   "source": [
    "from sklearn.metrics import make_scorer, fbeta_score\n",
    "\n",
    "f2_scorer = make_scorer(fbeta_score, beta=2)\n",
    "\n",
    "scores_f2 = cross_val_score(pipe, X, y, scoring=f2_scorer, cv=gcv, groups=groups, n_jobs=-1)\n",
    "print(\"F2-score:\", scores_f2.mean(), scores_f2)\n"
   ]
  },
  {
   "cell_type": "code",
   "execution_count": null,
   "id": "3e229aef",
   "metadata": {},
   "outputs": [
    {
     "name": "stdout",
     "output_type": "stream",
     "text": [
      "PR-AUC: 0.8333486352603604 [0.81123381 0.84078191 0.84101291 0.82722396 0.84649059]\n",
      "F2-score: 0.6335824382253682 [0.59579762 0.61856577 0.62534309 0.6456444  0.68256131]\n"
     ]
    }
   ],
   "source": [
    "from time_transformer_tools import TimeFeaturesTransformer\n",
    "from sklearn.compose import make_column_selector as selector\n",
    "tf = TimeFeaturesTransformer(\n",
    "    datetime_col=\"trans_date_trans_time\",\n",
    "    group_cols=(\"cc_num\",),\n",
    "    one_hot=True,\n",
    "    fill_first_delta=0,\n",
    "    drop_datetime=False\n",
    ")\n",
    "\n",
    "# 1) 明確把 tf 產生的數值特徵加到數值清單\n",
    "time_num_feats = [\"delta_sec_prev_tx\", \"is_unusual_hour\"]\n",
    "num_cols_final = num_cols + time_num_feats\n",
    "\n",
    "# 2) 針對四個 one-hot 欄位，直接 passthrough（它們已是 0/1，不要再經過 OneHotEncoder）\n",
    "bucket_selector = selector(pattern=r\"^time_bucket_\")  # 動態抓四欄\n",
    "\n",
    "pre = ColumnTransformer(\n",
    "    transformers=[\n",
    "        ('num', Pipeline([\n",
    "            ('imputer', SimpleImputer(strategy='meadian')),\n",
    "        ]), num_cols_final),\n",
    "\n",
    "        # 已經是 one-hot 的欄位直接通過\n",
    "        ('bucket_pass', 'passthrough', bucket_selector),\n",
    "\n",
    "        ('cat', Pipeline([\n",
    "            ('imputer', SimpleImputer(strategy='most_frequent')),\n",
    "            ('ohe', OneHotEncoder(handle_unknown='ignore')),\n",
    "        ]), cat_cols),\n",
    "    ],\n",
    "    remainder='drop'\n",
    ")\n",
    "\n",
    "pipe=Pipeline([\n",
    "    ('tf',tf),\n",
    "    ('pre',pre),\n",
    "    ('xgb',xgb)\n",
    "])\n",
    "\n",
    "scores_pr=cross_val_score(pipe,X,y,scoring='average_precision',cv=gcv,n_jobs=-1,groups=groups)\n",
    "print(\"PR-AUC:\",scores_pr.mean(),scores_pr)\n",
    "\n",
    "scores_f2 = cross_val_score(pipe, X, y, scoring=f2_scorer, cv=gcv, groups=groups, n_jobs=-1)\n",
    "print(\"F2-score:\", scores_f2.mean(), scores_f2)"
   ]
  },
  {
   "cell_type": "code",
   "execution_count": null,
   "id": "83436829",
   "metadata": {},
   "outputs": [],
   "source": []
  }
 ],
 "metadata": {
  "kernelspec": {
   "display_name": "base",
   "language": "python",
   "name": "python3"
  },
  "language_info": {
   "codemirror_mode": {
    "name": "ipython",
    "version": 3
   },
   "file_extension": ".py",
   "mimetype": "text/x-python",
   "name": "python",
   "nbconvert_exporter": "python",
   "pygments_lexer": "ipython3",
   "version": "3.13.5"
  }
 },
 "nbformat": 4,
 "nbformat_minor": 5
}
